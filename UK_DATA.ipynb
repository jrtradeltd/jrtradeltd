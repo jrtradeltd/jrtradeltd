{
  "nbformat": 4,
  "nbformat_minor": 0,
  "metadata": {
    "colab": {
      "name": "UK_DATA.ipynb",
      "provenance": [],
      "authorship_tag": "ABX9TyN3CSMsMew/u2NgSZRgxaDu",
      "include_colab_link": true
    },
    "kernelspec": {
      "name": "python3",
      "display_name": "Python 3"
    },
    "language_info": {
      "name": "python"
    }
  },
  "cells": [
    {
      "cell_type": "markdown",
      "metadata": {
        "id": "view-in-github",
        "colab_type": "text"
      },
      "source": [
        "<a href=\"https://colab.research.google.com/github/jrtradeltd/jrtradeltd/blob/main/UK_DATA.ipynb\" target=\"_parent\"><img src=\"https://colab.research.google.com/assets/colab-badge.svg\" alt=\"Open In Colab\"/></a>"
      ]
    },
    {
      "cell_type": "code",
      "metadata": {
        "id": "BdAgwvXgRBUd"
      },
      "source": [
        "import numpy as np\n",
        "from bs4 import BeautifulSoup as bs\n",
        "import requests\n",
        "import pandas as pd"
      ],
      "execution_count": 1,
      "outputs": []
    },
    {
      "cell_type": "code",
      "metadata": {
        "id": "kYvId47iRjLw"
      },
      "source": [
        "r = requests.get(f\"https://en.wikipedia.org/wiki/List_of_cities_in_the_United_Kingdom\")\n",
        "# Convert to a beautiful soup object\n",
        "soup = bs(r.content)\n",
        "# Print out the HTML\n",
        "content = soup.prettify()\n",
        "print(content)"
      ],
      "execution_count": null,
      "outputs": []
    },
    {
      "cell_type": "code",
      "metadata": {
        "colab": {
          "base_uri": "https://localhost:8080/"
        },
        "id": "24Lo82uzZwM4",
        "outputId": "90c62776-b3ac-4e91-d72b-758dc632bab4"
      },
      "source": [
        "cities = []\n",
        "table = soup.find(\"table\", class_=\"wikitable sortable\")\n",
        "rows = table.find_all(\"tr\")\n",
        "for a in rows:\n",
        "  row = a.a.text.strip(\"[1]\")\n",
        "  cities.append(row)\n",
        "cities = cities[1::]\n",
        "print(cities)"
      ],
      "execution_count": 3,
      "outputs": [
        {
          "output_type": "stream",
          "name": "stdout",
          "text": [
            "['Aberdeen', 'Armagh', 'Bangor', 'Bath', 'Belfast', 'Birmingham', 'Bradford', 'Brighton & Hove', 'Bristol', 'Cambridge', 'Canterbury', 'Cardiff', 'Carlisle', 'Chelmsford', 'Chester', 'Chichester', 'Coventry', 'Derby', 'Derry', 'Dundee', 'Durham', 'Edinburgh', 'Ely', 'Exeter', 'Glasgow', 'Gloucester', 'Hereford', 'Inverness', 'Kingston upon Hull', 'Lancaster', 'Leeds', 'Leicester', 'Lichfield', 'Lincoln', 'Lisburn', 'Liverpool', 'City of London', 'Manchester', 'Newcastle upon Tyne', 'Newport', 'Newry', 'Norwich', 'Nottingham', 'Oxford', 'Perth', 'Peterborough', 'Plymouth', 'Portsmouth', 'Preston', 'Ripon', 'St Albans', 'St Asaph', 'St Davids', 'Salford', 'Salisbury', 'Sheffield', 'Southampton', 'Stirling', 'Stoke-on-Trent', 'Sunderland', 'Swansea', 'Truro', 'Wakefield', 'Wells', 'Westminster', 'Winchester', 'Wolverhampton', 'Worcester', 'York']\n"
          ]
        }
      ]
    },
    {
      "cell_type": "code",
      "metadata": {
        "id": "ArT1pvy_sZCd"
      },
      "source": [
        "links = []"
      ],
      "execution_count": 4,
      "outputs": []
    },
    {
      "cell_type": "code",
      "metadata": {
        "id": "1RDIG_YPtgfN"
      },
      "source": [
        "for city in cities:\n",
        "  r = requests.get(f\"https://www.google.com/search?q=visit+{city}\")\n",
        "  # Convert to a beautiful soup object\n",
        "  soup = bs(r.content)\n",
        "  lniks1 = []\n",
        "  divs = soup.find_all(\"div\")\n",
        "  for a in divs:\n",
        "    if a.a in a:\n",
        "      href = a.find(href=True)\n",
        "      href1 = href['href']\n",
        "      stripped = href1.strip(\"'/url?q=\")\n",
        "      if stripped[0] == \"h\":\n",
        "        lniks1.append(stripped)\n",
        "  links.append(lniks1[0])"
      ],
      "execution_count": 5,
      "outputs": []
    },
    {
      "cell_type": "code",
      "metadata": {
        "colab": {
          "base_uri": "https://localhost:8080/"
        },
        "id": "GziFCWWmb6iX",
        "outputId": "a54e0c25-ce7a-46e4-f69e-210098125c1c"
      },
      "source": [
        "print(cities)"
      ],
      "execution_count": 14,
      "outputs": [
        {
          "output_type": "stream",
          "name": "stdout",
          "text": [
            "['Aberdeen', 'Armagh', 'Bangor', 'Bath', 'Belfast', 'Birmingham', 'Bradford', 'Brighton & Hove', 'Bristol', 'Cambridge', 'Canterbury', 'Cardiff', 'Carlisle', 'Chelmsford', 'Chester', 'Chichester', 'Coventry', 'Derby', 'Derry', 'Dundee', 'Durham', 'Edinburgh', 'Ely', 'Exeter', 'Glasgow', 'Gloucester', 'Hereford', 'Inverness', 'Kingston upon Hull', 'Lancaster', 'Leeds', 'Leicester', 'Lichfield', 'Lincoln', 'Lisburn', 'Liverpool', 'City of London', 'Manchester', 'Newcastle upon Tyne', 'Newport', 'Newry', 'Norwich', 'Nottingham', 'Oxford', 'Perth', 'Peterborough', 'Plymouth', 'Portsmouth', 'Preston', 'Ripon', 'St Albans', 'St Asaph', 'St Davids', 'Salford', 'Salisbury', 'Sheffield', 'Southampton', 'Stirling', 'Stoke-on-Trent', 'Sunderland', 'Swansea', 'Truro', 'Wakefield', 'Wells', 'Westminster', 'Winchester', 'Wolverhampton', 'Worcester', 'York']\n"
          ]
        }
      ]
    },
    {
      "cell_type": "code",
      "metadata": {
        "id": "MEUlbQXEiI2y"
      },
      "source": [
        "f = open('mycsvfile.csv','wb')\n",
        "w = csv.DictWriter(f,urldict.keys())\n",
        "w.writerows(my_dict)\n",
        "f.close()"
      ],
      "execution_count": null,
      "outputs": []
    },
    {
      "cell_type": "code",
      "metadata": {
        "colab": {
          "base_uri": "https://localhost:8080/"
        },
        "id": "rjr7Vmltj5M8",
        "outputId": "e1239c1b-ec63-4af7-878c-ccbb816a4b2e"
      },
      "source": [
        "print(links)"
      ],
      "execution_count": 15,
      "outputs": [
        {
          "output_type": "stream",
          "name": "stdout",
          "text": [
            "['https://visitaberdeensd.com/&sa=U&ved=2ahUKEwiCgrqzsO_zAhXHxZ4KHevkDtsQFnoECAoQAg&usg=AOvVaw2cSfVIx1keNN1hQv27wVaf', 'https://visitarmagh.com/&sa=U&ved=2ahUKEwimtqK0sO_zAhXJ-J4KHUa9At8QFnoECAQQAg&usg=AOvVaw1aw0LUI0ChwEQYvNd_fowN', 'https://www.visitbangormaine.com/&sa=U&ved=2ahUKEwjq7pq1sO_zAhXBsJ4KHcqCBt8QFnoECAsQAg&usg=AOvVaw14z58C30nsTbFqoJzOoYsZ', 'https://visitbath.co.uk/&sa=U&ved=2ahUKEwjdgYy2sO_zAhVYnJ4KHRxcBN4QFnoECAIQAg&usg=AOvVaw3N2czdlw65-bTMsuD_Aez', 'https://visitbelfast.com/&sa=U&ved=2ahUKEwjJrpG3sO_zAhXYv54KHUYJBd8QFnoECAIQAg&usg=AOvVaw204wyaPINxTX8ntvZP1FyY', 'https://visitbirmingham.com/&sa=U&ved=2ahUKEwjR44G4sO_zAhUMqJ4KHUcqCdsQFnoECAYQAg&usg=AOvVaw2XFvnKUmRUkQT7_Oqezv7p', 'https://www.visitbradford.com/&sa=U&ved=2ahUKEwiznd64sO_zAhUCu54KHZy4AN8QFnoECAEQAg&usg=AOvVaw2NOpP_G7X7712p_bSd2_H', 'https://www.visitbrighton.com/&sa=U&ved=2ahUKEwjJs-65sO_zAhWRtJ4KHUzlA98QFnoECAAQAg&usg=AOvVaw13GpNLIKIoSXeQPX3XxGhC', 'https://visitbristol.co.uk/&sa=U&ved=2ahUKEwjOp-i6sO_zAhXHs54KHRWOBt8QFnoECAkQAg&usg=AOvVaw29SWnm5ehMt_AvfCezvpUW', 'https://www.visitcambridge.org/&sa=U&ved=2ahUKEwjt4_67sO_zAhVUsp4KHVLaAX0QFnoECAkQAg&usg=AOvVaw1gOTCFOxS6QJTF36XeCaYY', 'https://www.canterbury.co.uk/&sa=U&ved=2ahUKEwi73vS8sO_zAhVOrp4KHZxJC98QFnoECAIQAg&usg=AOvVaw3g7KjH0MlCzBDi2cU7wTJy', 'https://www.visitcardiff.com/&sa=U&ved=2ahUKEwi-29q9sO_zAhVCgp4KHYXAAAkQFnoECAAQAg&usg=AOvVaw25vOBKfPnA0IeOLFLcs0os', 'https://maps.google.com/maps?q=visit+Carlisle&um=1&ie=UTF-8&sa=X&ved=0ahUKEwiM3dC-sO_zAhXJpJ4KHfPxC94Q_AUICCgB', 'https://www.visitessex.com/explore/destinations/chelmsford&sa=U&ved=2ahUKEwiR16i_sO_zAhUR-Z4KHUh7AN8QFnoECAoQAg&usg=AOvVaw0O3T12IhxzQ7ja2iY4Ee96', 'https://www.visitcheshire.com/chester&sa=U&ved=2ahUKEwjl-I3AsO_zAhVXpZ4KHWtEC98QFnoECAkQAg&usg=AOvVaw1k2SBXzjlk7gxYKZ7m54f8', 'https://www.thegreatsussexway.org/&sa=U&ved=2ahUKEwjTsfLAsO_zAhVJ-Z4KHdtrDd8QFnoECAAQAg&usg=AOvVaw3cwwBA_sgH5y1Zxlu67bbz', 'https://www.visitcoventry.co.uk/&sa=U&ved=2ahUKEwijlsrBsO_zAhVLsp4KHQO-B9wQFnoECAAQAg&usg=AOvVaw0ZAQ2D1ftgqDfeowhhJdtH', 'https://www.visitderby.co.uk/things-to-do&sa=U&ved=2ahUKEwid6LnCsO_zAhXBop4KHQGiDd8QFnoECAkQAg&usg=AOvVaw3WXdlzsrkmgSBQOoWM2lj3', 'https://www.visitderry.com/&sa=U&ved=2ahUKEwitqdLDsO_zAhXRrZ4KHYSgBFwQFnoECAEQAg&usg=AOvVaw2aEle-YaOERkIoSWEkPYaB', 'https://maps.google.com/maps?q=visit+Dundee&um=1&ie=UTF-8&sa=X&ved=0ahUKEwjI0tvEsO_zAhURu54KHayxC98Q_AUICCgB', 'https://www.discoverdurham.com/&sa=U&ved=2ahUKEwio1srFsO_zAhXXs54KHWlQDd8QFnoECAQQAg&usg=AOvVaw3CgkX9joQoowf-roTOoa-L', 'https://edinburgh.org/&sa=U&ved=2ahUKEwij1rrGsO_zAhXOwJ4KHVHyCt8QFnoECAkQAg&usg=AOvVaw1ledHoYTtD3quHsc-5CMly', 'https://www.ely.org/&sa=U&ved=2ahUKEwiTgcjHsO_zAhXI3J4KHda_BdwQFnoECAMQAg&usg=AOvVaw0iHwwZJN7EW8dNpHHueF7f', 'https://www.visitexeter.com/&sa=U&ved=2ahUKEwiP6arIsO_zAhVNqJ4KHWy9Ad8QFnoECAAQAg&usg=AOvVaw05YzKKzMCwic9EnZu83T2N', 'https://www.visitscotland.com/destinations-maps/glasgow/see-do/&sa=U&ved=2ahUKEwiZhp3JsO_zAhXMu54KHdBXDt4QFnoECAoQAg&usg=AOvVaw2B9jYJQCtBYrEB1veDhg-p', 'https://www.discovergloucester.com/&sa=U&ved=2ahUKEwjnz5bKsO_zAhXX6Z4KHeeQAd4QFnoECAsQAg&usg=AOvVaw1jAj0RoQe0iCrcUEqg65S6', 'https://maps.google.com/maps?q=visit+Hereford&um=1&ie=UTF-8&sa=X&ved=0ahUKEwirg6HLsO_zAhXIqp4KHUaQBt8Q_AUICCgB', 'https://www.visitinvernesslochness.com/&sa=U&ved=2ahUKEwjt4obMsO_zAhVEnJ4KHdnKAJ8QFnoECAgQAg&usg=AOvVaw2KRvgVkti64hroZCT0uutF', 'https://www.tripadvisor.com/Attractions-g186317-Activities-Kingston_upon_Hull_East_Riding_of_Yorkshire_England.html&sa=U&ved=2ahUKEwipjvrMsO_zAhVRrZ4KHQ2WDN8QFnoECAoQAg&usg=AOvVaw0AkxzhuZ4CFTIhhwl-VdS6', 'https://www.discoverlancaster.com/&sa=U&ved=2ahUKEwjnmp_OsO_zAhUErJ4KHfipCd8QFnoECAkQAg&usg=AOvVaw2C0Y-uid5n7T2VLuVrjTfK', 'https://www.visitleeds.co.uk/&sa=U&ved=2ahUKEwjt9JjPsO_zAhXN-Z4KHYPiCd8QFnoECAgQAg&usg=AOvVaw0SOAcrHQxPSBmdJbeItlxw', 'https://www.visitleicester.info/&sa=U&ved=2ahUKEwjEyLXQsO_zAhVPgp4KHU1wBd4QFnoECAIQAg&usg=AOvVaw2fl8gFK_Dus_2fLMb3TPM9', 'http://www.visitlichfield.co.uk/&sa=U&ved=2ahUKEwicuMjRsO_zAhXUtp4KHQ7eAt4QFnoECAEQAg&usg=AOvVaw3mZ3L_MdQ318EJjCapjsiM', 'https://www.lincoln.org/visit&sa=U&ved=2ahUKEwje2tfSsO_zAhVSnJ4KHaCKB98QFnoECAMQAg&usg=AOvVaw19sc1H8qpDgkgMVytDTZu9', 'https://www.visitlisburncastlereagh.com/&sa=U&ved=2ahUKEwi8tOXTsO_zAhVD3p4KHUXDDtwQFnoECAcQAg&usg=AOvVaw2hR3uJ-93fl8uxYFjMXDUf', 'https://www.visitliverpool.com/&sa=U&ved=2ahUKEwjVuoLVsO_zAhWB7Z4KHam5Dt8QFnoECAIQAg&usg=AOvVaw3kZETgwfF9xRnZHbhh7eOG', 'https://www.visitlondon.com/things-to-do/london-areas/city-of-london&sa=U&ved=2ahUKEwiR3ZXWsO_zAhWR9Z4KHTeoBt8QFnoECAAQAg&usg=AOvVaw0iH1h3Codg8CtdEEsi0VkP', 'https://www.visitmanchester.com/&sa=U&ved=2ahUKEwiR-ozXsO_zAhWVvZ4KHRtEAdsQFnoECAMQAg&usg=AOvVaw2y2R6N_WPM9JtM9FdUWy0W', 'https://www.planetware.com/tourist-attractions-/newcastle-upon-tyne-eng-tw-nut.htm&sa=U&ved=2ahUKEwjjk4fYsO_zAhUNrp4KHRSiC94QFnoECAoQAg&usg=AOvVaw3yykhyUQKCRReT1Ji8PInA', 'https://www.visitnewportbeach.com/&sa=U&ved=2ahUKEwi7ntjZsO_zAhWM-Z4KHTFtAt4QFnoECAsQAg&usg=AOvVaw0X8Gz5AyceYdCgTTfnxh2Q', 'https://www.tripadvisor.com/Attractions-g209938-Activities-Newry_County_Down_Northern_Ireland.html&sa=U&ved=2ahUKEwiEi8LasO_zAhWB4J4KHaQgDd4QFnoECAEQAg&usg=AOvVaw1IVOaNDGxCBuA8Sz9y0Y5y', 'https://www.visitnorwich.co.uk/&sa=U&ved=2ahUKEwj5j53bsO_zAhXUs54KHYgcAd4QFnoECAMQAg&usg=AOvVaw3iiJDWPWZvyCB3fvyz0kE', 'https://www.visit-nottinghamshire.co.uk/&sa=U&ved=2ahUKEwjB1P_bsO_zAhVCwZ4KHYDdC98QFnoECAMQAg&usg=AOvVaw23VRM3vc6VeebMGy5WchF-', 'http://www.google.com/aclk?sa=l&ai=DChcSEwjV_P7csO_zAhXLyZQJHUTdAfwYABAAGgJ5bQ&sig=AOD64_0decu3osJWw58uVWWa2hCxEsskIw&ved=2ahUKEwjJlPXcsO_zAhUCip4KHcZMBN4Q0Qx6BAgMEAE&ad', 'https://visitperth.com/&sa=U&ved=2ahUKEwiUsevdsO_zAhUSv54KHQe9Ct4QFnoECAEQAg&usg=AOvVaw0yvzrq7SANKlgGl-csPWOR', 'https://www.visitpeterborough.com/&sa=U&ved=2ahUKEwicut_esO_zAhVGxZ4KHajPDNsQFnoECAIQAg&usg=AOvVaw3DyXID0Uu71Xwt_lBbrjWv', 'https://seeplymouth.com/&sa=U&ved=2ahUKEwiimNXfsO_zAhVNip4KHc5uCN4QFnoECAoQAg&usg=AOvVaw1_37W3qJeQKx-xjcbEAQJM', 'https://portsvacation.com/&sa=U&ved=2ahUKEwiKi9fgsO_zAhXGtp4KHa-fBN4QFnoECAAQAg&usg=AOvVaw0H6X1mZ5BxSfxnwPbJPzmh', 'https://www.visitpreston.com/&sa=U&ved=2ahUKEwiQ_P_hsO_zAhXI6J4KHX-vDd4QFnoECAUQAg&usg=AOvVaw38N7gAYjVPgqWuCa0qbjSQ', 'https://maps.google.com/maps?q=visit+Ripon&um=1&ie=UTF-8&sa=X&ved=0ahUKEwiHitfisO_zAhXBjp4KHXq8Ct8Q_AUICCgB', 'https://www.enjoystalbans.com/&sa=U&ved=2ahUKEwjvpr7jsO_zAhXIxZ4KHXNAA98QFnoECAQQAg&usg=AOvVaw2-5CS44V907QHMWpJn9UG-', 'https://www.northeastwales.wales/visit-north-east-wales/st-asaph/&sa=U&ved=2ahUKEwjRlZTksO_zAhXCv54KHYC0C94QFnoECAcQAg&usg=AOvVaw1UVavkl4LS5hlS9vf6duzp', 'https://www.visitwales.com/destinations/west-wales/pembrokeshire/5-fantastic-places-st-davids&sa=U&ved=2ahUKEwiKo-vksO_zAhVNnp4KHbvqC9sQFnoECAoQAg&usg=AOvVaw1Z71Wc8721451wQBfhD7lf', 'https://www.visitsalford.info/&sa=U&ved=2ahUKEwjUj9nlsO_zAhXIo54KHT4cB9wQFnoECAIQAg&usg=AOvVaw0AMwGi5ZlV9JkSdm4wWKdF', 'https://www.visitsalisburync.com/&sa=U&ved=2ahUKEwjm6cXmsO_zAhWP6Z4KHUvrAt8QFnoECAgQAg&usg=AOvVaw1mn0BiY64mHWpokhkJ9OF-', 'https://www.welcometosheffield.co.uk/visit&sa=U&ved=2ahUKEwiButPnsO_zAhXGop4KHarfDd4QFnoECAAQAg&usg=AOvVaw2Eic4dWCjPua0kDLnP18EV', 'https://visitsouthampton.co.uk/&sa=U&ved=2ahUKEwih0b3osO_zAhVEqp4KHTHCDt4QFnoECAQQAg&usg=AOvVaw1oF4_H7hZH3L1VURTgXm0I', 'https://www.visitscotland.com/destinations-maps/stirling/&sa=U&ved=2ahUKEwjMh6_psO_zAhVFxZ4KHWChBd8QFnoECAkQAg&usg=AOvVaw1qx3agZnOtI-XmZtORFzGz', 'https://www.visitstoke.co.uk/&sa=U&ved=2ahUKEwjrnqrqsO_zAhVGnp4KHckiAdsQFnoECAgQAg&usg=AOvVaw0HNF3uvkjxpsJ1kU-1MqCZ', 'https://www.mysunderland.co.uk/&sa=U&ved=2ahUKEwihjdnrsO_zAhWC4J4KHQyoC9sQFnoECAIQAg&usg=AOvVaw0AbceceDxG6Fhu_HHc1uHo', 'https://www.visitwales.com/destinations/west-wales/swansea-bay/things-see-and-do-swansea&sa=U&ved=2ahUKEwjl17rssO_zAhWHvZ4KHTnpBN4QFnoECAgQAg&usg=AOvVaw0bVQClyKWNp7P7H2B3Fbb2', 'https://maps.google.com/maps?q=visit+Truro&um=1&ie=UTF-8&sa=X&ved=0ahUKEwjzusvtsO_zAhWJuJ4KHdgNCN4Q_AUICCgB', 'https://twitter.com/Visit_Wakefield%3Fref_src%3Dtwsrc%255Egoogle%257Ctwcamp%255Eserp%257Ctwgr%255Eauthor&sa=U&ved=2ahUKEwiw6MDusO_zAhVUsp4KHVLaAX0Q6F56BAgLEAI&usg=AOvVaw2nTywXtWAzbjIaDSIpNU_8', 'https://admissions.wells.edu/visit/&sa=U&ved=2ahUKEwjL3q_vsO_zAhVC_J4KHZ1_Ct8QFnoECAYQAg&usg=AOvVaw3_rQOyB0ZkbVNB1jwyNdJT', 'http://www.westminster.edu/visit&sa=U&ved=2ahUKEwiU2ZPwsO_zAhXD7Z4KHcySCN8QFnoECAkQAg&usg=AOvVaw2n6-etkfnoQL-DVUHwXSo', 'https://visitwinchesterva.com/&sa=U&ved=2ahUKEwjkm-7wsO_zAhXJpJ4KHfPxC94QFnoECAcQAg&usg=AOvVaw2xH2gm-R_uM_POcVgWXgXc', 'https://www.tripadvisor.com/Attractions-g190762-Activities-Wolverhampton_West_Midlands_England.html&sa=U&ved=2ahUKEwj-x9jxsO_zAhXMop4KHZxODt4QFnoECAoQAg&usg=AOvVaw1lJoEBiAnEGeYFTCflGxN7', 'https://www.discovercentralma.org/regions/worcester/&sa=U&ved=2ahUKEwiXjqfysO_zAhXL3J4KHSUhAN4QFnoECAsQAg&usg=AOvVaw1dkALP_fF33DAI4gnLnBVW', 'https://www.visityork.org/&sa=U&ved=2ahUKEwinhIPzsO_zAhXDjp4KHaDFAI4QFnoECAgQAg&usg=AOvVaw1otSalUU55Rsy0BmQzmhXy']\n"
          ]
        }
      ]
    },
    {
      "cell_type": "code",
      "metadata": {
        "id": "68pK2Xf_j8GE"
      },
      "source": [
        "df = pd.DataFrame({\"Cities\": cities,\n",
        "                  \"Links\": links})"
      ],
      "execution_count": 48,
      "outputs": []
    },
    {
      "cell_type": "code",
      "metadata": {
        "colab": {
          "base_uri": "https://localhost:8080/",
          "height": 419
        },
        "id": "X_hLb030q81X",
        "outputId": "86000b41-e33d-48c1-8777-379c833f5e77"
      },
      "source": [
        "df"
      ],
      "execution_count": 50,
      "outputs": [
        {
          "output_type": "execute_result",
          "data": {
            "text/html": [
              "<div>\n",
              "<style scoped>\n",
              "    .dataframe tbody tr th:only-of-type {\n",
              "        vertical-align: middle;\n",
              "    }\n",
              "\n",
              "    .dataframe tbody tr th {\n",
              "        vertical-align: top;\n",
              "    }\n",
              "\n",
              "    .dataframe thead th {\n",
              "        text-align: right;\n",
              "    }\n",
              "</style>\n",
              "<table border=\"1\" class=\"dataframe\">\n",
              "  <thead>\n",
              "    <tr style=\"text-align: right;\">\n",
              "      <th></th>\n",
              "      <th>Cities</th>\n",
              "      <th>Links</th>\n",
              "    </tr>\n",
              "  </thead>\n",
              "  <tbody>\n",
              "    <tr>\n",
              "      <th>0</th>\n",
              "      <td>Aberdeen</td>\n",
              "      <td>https://visitaberdeensd.com/&amp;sa=U&amp;ved=2ahUKEwi...</td>\n",
              "    </tr>\n",
              "    <tr>\n",
              "      <th>1</th>\n",
              "      <td>Armagh</td>\n",
              "      <td>https://visitarmagh.com/&amp;sa=U&amp;ved=2ahUKEwimtqK...</td>\n",
              "    </tr>\n",
              "    <tr>\n",
              "      <th>2</th>\n",
              "      <td>Bangor</td>\n",
              "      <td>https://www.visitbangormaine.com/&amp;sa=U&amp;ved=2ah...</td>\n",
              "    </tr>\n",
              "    <tr>\n",
              "      <th>3</th>\n",
              "      <td>Bath</td>\n",
              "      <td>https://visitbath.co.uk/&amp;sa=U&amp;ved=2ahUKEwjdgYy...</td>\n",
              "    </tr>\n",
              "    <tr>\n",
              "      <th>4</th>\n",
              "      <td>Belfast</td>\n",
              "      <td>https://visitbelfast.com/&amp;sa=U&amp;ved=2ahUKEwjJrp...</td>\n",
              "    </tr>\n",
              "    <tr>\n",
              "      <th>...</th>\n",
              "      <td>...</td>\n",
              "      <td>...</td>\n",
              "    </tr>\n",
              "    <tr>\n",
              "      <th>64</th>\n",
              "      <td>Westminster</td>\n",
              "      <td>http://www.westminster.edu/visit&amp;sa=U&amp;ved=2ahU...</td>\n",
              "    </tr>\n",
              "    <tr>\n",
              "      <th>65</th>\n",
              "      <td>Winchester</td>\n",
              "      <td>https://visitwinchesterva.com/&amp;sa=U&amp;ved=2ahUKE...</td>\n",
              "    </tr>\n",
              "    <tr>\n",
              "      <th>66</th>\n",
              "      <td>Wolverhampton</td>\n",
              "      <td>https://www.tripadvisor.com/Attractions-g19076...</td>\n",
              "    </tr>\n",
              "    <tr>\n",
              "      <th>67</th>\n",
              "      <td>Worcester</td>\n",
              "      <td>https://www.discovercentralma.org/regions/worc...</td>\n",
              "    </tr>\n",
              "    <tr>\n",
              "      <th>68</th>\n",
              "      <td>York</td>\n",
              "      <td>https://www.visityork.org/&amp;sa=U&amp;ved=2ahUKEwinh...</td>\n",
              "    </tr>\n",
              "  </tbody>\n",
              "</table>\n",
              "<p>69 rows × 2 columns</p>\n",
              "</div>"
            ],
            "text/plain": [
              "           Cities                                              Links\n",
              "0        Aberdeen  https://visitaberdeensd.com/&sa=U&ved=2ahUKEwi...\n",
              "1          Armagh  https://visitarmagh.com/&sa=U&ved=2ahUKEwimtqK...\n",
              "2          Bangor  https://www.visitbangormaine.com/&sa=U&ved=2ah...\n",
              "3            Bath  https://visitbath.co.uk/&sa=U&ved=2ahUKEwjdgYy...\n",
              "4         Belfast  https://visitbelfast.com/&sa=U&ved=2ahUKEwjJrp...\n",
              "..            ...                                                ...\n",
              "64    Westminster  http://www.westminster.edu/visit&sa=U&ved=2ahU...\n",
              "65     Winchester  https://visitwinchesterva.com/&sa=U&ved=2ahUKE...\n",
              "66  Wolverhampton  https://www.tripadvisor.com/Attractions-g19076...\n",
              "67      Worcester  https://www.discovercentralma.org/regions/worc...\n",
              "68           York  https://www.visityork.org/&sa=U&ved=2ahUKEwinh...\n",
              "\n",
              "[69 rows x 2 columns]"
            ]
          },
          "metadata": {},
          "execution_count": 50
        }
      ]
    },
    {
      "cell_type": "code",
      "metadata": {
        "id": "vWi5sM_IrDnH"
      },
      "source": [
        "compression_opts = dict(method='zip',\n",
        "                        archive_name='out.csv')  \n",
        "df.to_csv('out.zip', index=False,\n",
        "          compression=compression_opts)  "
      ],
      "execution_count": 51,
      "outputs": []
    },
    {
      "cell_type": "code",
      "metadata": {
        "id": "h6T_b98ZrPLu"
      },
      "source": [
        ""
      ],
      "execution_count": null,
      "outputs": []
    }
  ]
}